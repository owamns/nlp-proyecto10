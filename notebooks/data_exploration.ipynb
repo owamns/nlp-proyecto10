{
 "cells": [
  {
   "cell_type": "code",
   "id": "initial_id",
   "metadata": {
    "collapsed": true,
    "ExecuteTime": {
     "end_time": "2025-05-15T22:17:07.895749Z",
     "start_time": "2025-05-15T22:16:58.490298Z"
    }
   },
   "source": [
    "from src.data_loader import load_and_chunk_data\n",
    "chunks, summaries = load_and_chunk_data()\n",
    "print(f\"Número de documentos: {len(chunks)}\")\n",
    "print(f\"Chunks en documento 1: {len(chunks[0])}\")"
   ],
   "outputs": [
    {
     "name": "stdout",
     "output_type": "stream",
     "text": [
      "Número de documentos: 2871\n",
      "Chunks en documento 1: 1\n"
     ]
    }
   ],
   "execution_count": 1
  },
  {
   "metadata": {
    "ExecuteTime": {
     "end_time": "2025-05-15T22:57:07.247851Z",
     "start_time": "2025-05-15T22:56:54.565592Z"
    }
   },
   "cell_type": "code",
   "source": [
    "from src.data_loader import load_and_chunk_data\n",
    "from src.encoder import HierarchicalEncoder\n",
    "\n",
    "chunks, _ = load_and_chunk_data()\n",
    "encoder = HierarchicalEncoder()\n",
    "sample = chunks[0][:2]\n",
    "output = encoder(sample)\n",
    "print(f\"Dimensiones de salida: {output.shape}\")"
   ],
   "id": "616bfae13a82d5aa",
   "outputs": [
    {
     "name": "stderr",
     "output_type": "stream",
     "text": [
      "/home/owams/.conda/envs/nlp-proyecto10/lib/python3.9/site-packages/torch/nn/modules/transformer.py:382: UserWarning: enable_nested_tensor is True, but self.use_nested_tensor is False because encoder_layer.self_attn.batch_first was not True(use batch_first for better inference performance)\n",
      "  warnings.warn(\n"
     ]
    },
    {
     "name": "stdout",
     "output_type": "stream",
     "text": [
      "Dimensiones de salida: torch.Size([1, 768])\n"
     ]
    }
   ],
   "execution_count": 1
  }
 ],
 "metadata": {
  "kernelspec": {
   "display_name": "Python 3",
   "language": "python",
   "name": "python3"
  },
  "language_info": {
   "codemirror_mode": {
    "name": "ipython",
    "version": 2
   },
   "file_extension": ".py",
   "mimetype": "text/x-python",
   "name": "python",
   "nbconvert_exporter": "python",
   "pygments_lexer": "ipython2",
   "version": "2.7.6"
  }
 },
 "nbformat": 4,
 "nbformat_minor": 5
}
