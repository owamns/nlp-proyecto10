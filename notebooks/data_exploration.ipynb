{
 "cells": [
  {
   "cell_type": "code",
   "id": "initial_id",
   "metadata": {
    "collapsed": true,
    "ExecuteTime": {
     "end_time": "2025-05-15T22:17:07.895749Z",
     "start_time": "2025-05-15T22:16:58.490298Z"
    }
   },
   "source": [
    "from src.data_loader import load_and_chunk_data\n",
    "chunks, summaries = load_and_chunk_data()\n",
    "print(f\"Número de documentos: {len(chunks)}\")\n",
    "print(f\"Chunks en documento 1: {len(chunks[0])}\")"
   ],
   "outputs": [
    {
     "name": "stdout",
     "output_type": "stream",
     "text": [
      "Número de documentos: 2871\n",
      "Chunks en documento 1: 1\n"
     ]
    }
   ],
   "execution_count": 1
  }
 ],
 "metadata": {
  "kernelspec": {
   "display_name": "Python 3",
   "language": "python",
   "name": "python3"
  },
  "language_info": {
   "codemirror_mode": {
    "name": "ipython",
    "version": 2
   },
   "file_extension": ".py",
   "mimetype": "text/x-python",
   "name": "python",
   "nbconvert_exporter": "python",
   "pygments_lexer": "ipython2",
   "version": "2.7.6"
  }
 },
 "nbformat": 4,
 "nbformat_minor": 5
}
